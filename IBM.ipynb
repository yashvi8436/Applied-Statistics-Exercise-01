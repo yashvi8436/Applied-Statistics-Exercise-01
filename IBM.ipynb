{
 "cells": [
  {
   "cell_type": "code",
   "execution_count": null,
   "id": "cb725ce3-93a2-4f9a-8fcb-48d9a2a8f5d2",
   "metadata": {},
   "outputs": [],
   "source": [
    "# Numpy advance  "
   ]
  },
  {
   "cell_type": "code",
   "execution_count": null,
   "id": "c1a2447c-0656-4056-9c45-c88e5921552b",
   "metadata": {},
   "outputs": [],
   "source": [
    "import numpy as np\n",
    "\n",
    "# creating a 1-D array\n",
    "a = np.array([1,2,3])\n",
    "b = [4, 7, 8, 12]\n",
    "print(type(a))\n",
    "print(a.shape)\n",
    "print(b)\n",
    "print(type(b))\n",
    "print(a[0], a[1], a[2])\n",
    "a[0] = 5\n",
    "print(a)"
   ]
  },
  {
   "cell_type": "code",
   "execution_count": 9,
   "id": "e4025547-3e43-4f1b-b54c-ae2dad7b9680",
   "metadata": {},
   "outputs": [
    {
     "name": "stdout",
     "output_type": "stream",
     "text": [
      "[[7 7]\n",
      " [7 7]]\n"
     ]
    }
   ],
   "source": [
    "# creating a 2-D array\n",
    "b = np.array([[1,2,3], [4,5,6]])\n",
    "print(b.shape)\n",
    "print(b[0,0], b[0,1], b[1,0])"
   ]
  },
  {
   "cell_type": "code",
   "execution_count": 13,
   "id": "c97e56e5-af95-466e-9c78-9e8a110f1c48",
   "metadata": {},
   "outputs": [
    {
     "name": "stdout",
     "output_type": "stream",
     "text": [
      "[[0. 0.]\n",
      " [0. 0.]]\n",
      "[[1. 1.]]\n",
      "[[7 7]\n",
      " [7 7]]\n"
     ]
    }
   ],
   "source": [
    "# whenever there is a null value or missing value in a dataset we need to fill the values with \n",
    "# 0, 1, mean, median or mode for data pre processing \n",
    "a = np.zeros((2,2))\n",
    "print(a)\n",
    "b = np.ones((1,2))\n",
    "print(b)\n",
    "c = np.full((2,2),7)\n",
    "print(c)"
   ]
  },
  {
   "cell_type": "code",
   "execution_count": 15,
   "id": "e0bb01cd-1f28-42fc-96df-f88accac54b2",
   "metadata": {},
   "outputs": [
    {
     "name": "stdout",
     "output_type": "stream",
     "text": [
      "[[1. 0.]\n",
      " [0. 1.]]\n",
      "[[0.86005723 0.35640469]\n",
      " [0.47082725 0.26734497]]\n"
     ]
    }
   ],
   "source": [
    "d = np.eye(2)\n",
    "print(d)\n",
    "e= np.random.random((2,2))\n",
    "print(e)"
   ]
  },
  {
   "cell_type": "code",
   "execution_count": 51,
   "id": "13a23ca9-a1aa-440d-b9dc-f9f2ab89133a",
   "metadata": {},
   "outputs": [
    {
     "name": "stdout",
     "output_type": "stream",
     "text": [
      "[[[81 31 85]]\n",
      "\n",
      " [[40 23 67]]\n",
      "\n",
      " [[25 61 87]]\n",
      "\n",
      " [[41 36 97]]\n",
      "\n",
      " [[59 79 35]]]\n"
     ]
    }
   ],
   "source": [
    "# numpy.random.randint(low, high=None, size=None, dtype=’l’)\n",
    "e=np.random.randint(2,100,(5,1,3))\n",
    "print(e)\n",
    "\n",
    "# numpy.linspace(start, stop, num=50, endpoint=True , retstep=False, dtype=None, axis=0)\n",
    "f = np.linspace(0, 2, 10)\n",
    "print(f)"
   ]
  },
  {
   "cell_type": "code",
   "execution_count": 73,
   "id": "1d17faba-ee4d-45a4-9269-37c9f2432aeb",
   "metadata": {},
   "outputs": [
    {
     "name": "stdout",
     "output_type": "stream",
     "text": [
      "2\n",
      "[[ 1  2  3  4]\n",
      " [ 5  6  7  8]\n",
      " [ 9 10 11 12]]\n",
      "[[2 3]\n",
      " [6 7]]\n",
      "[[2]\n",
      " [6]]\n",
      "[[ 9 10]]\n",
      "[[2 3 4]\n",
      " [6 7 8]]\n",
      "[[7]]\n",
      "[]\n"
     ]
    }
   ],
   "source": [
    "# slicing \n",
    "\n",
    "a = np.array([[1,2,3,4],[5,6,7,8],[9,10,11,12]])\n",
    "print(a[0,1])\n",
    "print(a[:,:])\n",
    "print(a[:2, 1:3])\n",
    "print(a[0:2, 1:2])\n",
    "print(a[2:3, 0:2])\n",
    "print(a[:2, 1:])\n",
    "print(a[-2:-1, -2:-1])\n",
    "print(a[-2:1, 1:-3])"
   ]
  },
  {
   "cell_type": "code",
   "execution_count": 83,
   "id": "deb35f94-8b12-468b-ada3-f40d3bc17f8e",
   "metadata": {},
   "outputs": [
    {
     "name": "stdout",
     "output_type": "stream",
     "text": [
      "[1 4 5]\n",
      "[1 4 5]\n",
      "[2 2]\n",
      "[2 2]\n"
     ]
    }
   ],
   "source": [
    "a = np.array([[1,2],[3,4],[5,6]])\n",
    "print(a[[0,1,2], [0,1,0]])\n",
    "print(np.array([a[0,0], a[1,1], a[2,0]]))\n",
    "print(a[[0,0], [1,1]])\n",
    "print(np.array([a[0,1], a[0,1]]))"
   ]
  },
  {
   "cell_type": "code",
   "execution_count": 87,
   "id": "6c72e252-e3cc-4c22-8e94-74f84575a279",
   "metadata": {},
   "outputs": [
    {
     "name": "stdout",
     "output_type": "stream",
     "text": [
      "[[ 1  2  3]\n",
      " [ 4  5  6]\n",
      " [ 7  8  9]\n",
      " [10 11 12]]\n",
      "[ 1  6  7 11]\n",
      "[[11  2  3]\n",
      " [ 4  5 16]\n",
      " [17  8  9]\n",
      " [10 21 12]]\n"
     ]
    }
   ],
   "source": [
    "a = np.array([[1,2,3],[4,5,6],[7,8,9],[10,11,12]])\n",
    "print(a)\n",
    "b = np.array([0,2,0,1])\n",
    "print(a[np.arange(4), b])\n",
    "a[np.arange(4), b] += 10\n",
    "print(a)"
   ]
  },
  {
   "cell_type": "code",
   "execution_count": 93,
   "id": "3d70f723-9b4a-45b2-8425-e7a291a8d0b1",
   "metadata": {},
   "outputs": [
    {
     "name": "stdout",
     "output_type": "stream",
     "text": [
      "[[False False]\n",
      " [ True  True]\n",
      " [ True  True]]\n",
      "[3 4 5 6]\n",
      "[3 4 5 6]\n"
     ]
    }
   ],
   "source": [
    "a = np.array([[1,2],[3,4],[5,6]])\n",
    "bool_idx = (a > 2)\n",
    "print(bool_idx)\n",
    "print(a[bool_idx])\n",
    "print(a[a>2])"
   ]
  },
  {
   "cell_type": "code",
   "execution_count": 101,
   "id": "46c7cee5-2df4-43be-afd9-e8003ec6406c",
   "metadata": {},
   "outputs": [
    {
     "name": "stdout",
     "output_type": "stream",
     "text": [
      "[[ 6.  8.]\n",
      " [10. 12.]]\n",
      "[[ 6.  8.]\n",
      " [10. 12.]]\n",
      "[[-4. -4.]\n",
      " [-4. -4.]]\n",
      "[[-4. -4.]\n",
      " [-4. -4.]]\n",
      "[[0.2        0.33333333]\n",
      " [0.42857143 0.5       ]]\n",
      "[[0.2        0.33333333]\n",
      " [0.42857143 0.5       ]]\n",
      "[[ 5. 12.]\n",
      " [21. 32.]]\n",
      "[[ 5. 12.]\n",
      " [21. 32.]]\n",
      "[[1.         1.41421356]\n",
      " [1.73205081 2.        ]]\n"
     ]
    }
   ],
   "source": [
    "x = np.array([[1,2],[3,4]], dtype= np.float64)\n",
    "y = np.array([[5,6],[7,8]], dtype = np.float64)\n",
    "print(x+y)\n",
    "print(np.add(x,y))\n",
    "print(x-y)\n",
    "print(np.subtract(x,y))\n",
    "print(x/y)\n",
    "print(np.divide(x,y))\n",
    "print(x*y)\n",
    "print(np.multiply(x,y))\n",
    "print(np.sqrt(x))"
   ]
  },
  {
   "cell_type": "code",
   "execution_count": 103,
   "id": "93c9d9f1-8e3d-49f5-8374-95793eb7b10f",
   "metadata": {},
   "outputs": [
    {
     "name": "stdout",
     "output_type": "stream",
     "text": [
      "[[1 2]\n",
      " [3 4]]\n",
      "[[1 3]\n",
      " [2 4]]\n",
      "[1 2 3]\n"
     ]
    }
   ],
   "source": [
    "x = np.array([[1,2],[3,4]])\n",
    "print(x)\n",
    "print(x.T)\n",
    "v = np.array([1,2,3])\n",
    "print(v.T)"
   ]
  },
  {
   "cell_type": "code",
   "execution_count": 105,
   "id": "93b8cda0-e593-4bce-8f8e-16e9fca69fce",
   "metadata": {},
   "outputs": [
    {
     "name": "stdout",
     "output_type": "stream",
     "text": [
      "The Original Array is:\n",
      " [ 0  1  2  3  4  5  6  7  8  9 10 11 12 13 14 15]\n",
      "The Reshaped array is:\n",
      " [[ 0  1  2  3  4  5  6  7]\n",
      " [ 8  9 10 11 12 13 14 15]]\n"
     ]
    }
   ],
   "source": [
    "arr = np.arange(16)\n",
    "print(\"The Original Array is:\\n\",arr)\n",
    "arr1 = np.arange(16).reshape(2,8)\n",
    "print(\"The Reshaped array is:\\n\",arr1)"
   ]
  },
  {
   "cell_type": "code",
   "execution_count": 109,
   "id": "12ed4ffb-afd0-49bf-96f5-23753eb609ad",
   "metadata": {},
   "outputs": [
    {
     "name": "stdout",
     "output_type": "stream",
     "text": [
      "Printing the Original square array:\n",
      " [[1 2]\n",
      " [2 3]]\n",
      "Printing the Eigen values of the given square array:\n",
      " [-0.23606798  4.23606798]\n",
      "Printing Right eigenvectors of the given square array:\n",
      " [[-0.85065081 -0.52573111]\n",
      " [ 0.52573111 -0.85065081]]\n"
     ]
    }
   ],
   "source": [
    "# eigen values Eigenvalues are the scalar values associated with the eigenvectors in linear transformation.\n",
    "# eigen vectors Eigenvectors for square matrices are defined as non-zero vector values which when multiplied by the square matrices give the scaler multiple of the vector, i.e. we define an eigenvector for matrix A to be “v” if it specifies the condition, Av = λv\n",
    "\n",
    "import numpy as np \n",
    "x = np.array([[1, 2], [2, 3]])  \n",
    "print(\"Printing the Original square array:\\n\", x)   \n",
    "# finding eigenvalues and eigenvectors \n",
    "y, z = np.linalg.eig(x) \n",
    "\n",
    "print(\"Printing the Eigen values of the given square array:\\n\", y)    # values\n",
    "print(\"Printing Right eigenvectors of the given square array:\\n\", z)   # vectors "
   ]
  },
  {
   "cell_type": "code",
   "execution_count": null,
   "id": "00e0f888-b946-46a7-b632-f906b4ba6dad",
   "metadata": {},
   "outputs": [],
   "source": []
  }
 ],
 "metadata": {
  "kernelspec": {
   "display_name": "Python 3 (ipykernel)",
   "language": "python",
   "name": "python3"
  },
  "language_info": {
   "codemirror_mode": {
    "name": "ipython",
    "version": 3
   },
   "file_extension": ".py",
   "mimetype": "text/x-python",
   "name": "python",
   "nbconvert_exporter": "python",
   "pygments_lexer": "ipython3",
   "version": "3.12.4"
  }
 },
 "nbformat": 4,
 "nbformat_minor": 5
}
